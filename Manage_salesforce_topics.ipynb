{
 "cells": [
  {
   "cell_type": "markdown",
   "metadata": {},
   "source": [
    "# This is a notebook to manage pushTopic for salesforce\n",
    "You will need some salesforce credentials to use this notebook, these are\n",
    "- Username\n",
    "- Password\n",
    "- Security token (You get this from salesforce -> Your user -> Settings -> My Personal Information -> Reset My Security Token)"
   ]
  },
  {
   "cell_type": "code",
   "execution_count": 2,
   "metadata": {},
   "outputs": [],
   "source": [
    "import getpass\n",
    "from simple_salesforce import Salesforce"
   ]
  },
  {
   "cell_type": "markdown",
   "metadata": {},
   "source": [
    "## Supperted queries (per 23.01.20)\n",
    "\n",
    "- Account\n",
    "- Campaign\n",
    "- Case\n",
    "- Contact\n",
    "- ContractLineItem\n",
    "- Entitlement\n",
    "- Lead\n",
    "- LiveChatTranscript\n",
    "- Opportunity\n",
    "- Quote\n",
    "- QuoteLineItem\n",
    "- ServiceAppointment\n",
    "- ServiceContract\n",
    "- Task\n",
    "- WorkOrder\n",
    "- WorkOrderLineItem"
   ]
  },
  {
   "cell_type": "code",
   "execution_count": 3,
   "metadata": {},
   "outputs": [],
   "source": [
    "def name_of_topics(sf):\n",
    "    return [x['Name'] for x in sf.query('SELECT Id, Name, Query FROM PushTopic')['records']]\n",
    "\n",
    "def limits(sf):\n",
    "    return sf.limits()\n",
    "\n",
    "def delete_topic(sf,TopicName):\n",
    "    iD = [x['Id'] for x in sf.query(\"SELECT Id, Name, Query FROM PushTopic WHERE Name = '{}'\".format(TopicName))['records']][0]\n",
    "    return sf.PushTopic.delete(iD)\n",
    "\n",
    "def create_topic(sf,TopicName):\n",
    "    return sf.PushTopic.create({'Name':'{}'.format(TopicName),\n",
    "                     'Query':'SELECT Id, LastModifiedDate FROM {}'.format(TopicName),\n",
    "                     'ApiVersion':47.0,\n",
    "                    'NotifyForOperationCreate':'true',\n",
    "                    'NotifyForOperationUpdate':'true',\n",
    "                    'NotifyForOperationUndelete':'true',\n",
    "                    'NotifyForOperationDelete':'true',\n",
    "                    'NotifyForFields':'All'})"
   ]
  },
  {
   "cell_type": "markdown",
   "metadata": {},
   "source": [
    "# Enter your salesforce credentials for salesforce here\n",
    "To use sandbox, set sandbox to True, else you need to set your prod instance"
   ]
  },
  {
   "cell_type": "code",
   "execution_count": 4,
   "metadata": {},
   "outputs": [
    {
     "name": "stdout",
     "output_type": "stream",
     "text": [
      "Username\n",
      "········\n",
      "\n",
      "Password\n",
      "········\n",
      "\n",
      "Token\n",
      "········\n",
      "\n",
      "Sandbox (test/False)\n",
      "True\n"
     ]
    }
   ],
   "source": [
    "print('Username')\n",
    "username = getpass.getpass()\n",
    "print('\\nPassword')\n",
    "password = getpass.getpass()\n",
    "print('\\nToken')\n",
    "token = getpass.getpass()\n",
    "print('\\nSandbox (test/False)')\n",
    "domain=bool(input())\n",
    "if domain:domain='test'"
   ]
  },
  {
   "cell_type": "code",
   "execution_count": 5,
   "metadata": {},
   "outputs": [],
   "source": [
    "sf = Salesforce(username=username, password=password, security_token=token,domain=domain,version=47.0)"
   ]
  },
  {
   "cell_type": "markdown",
   "metadata": {},
   "source": [
    "# Functions\n",
    "We have 4 functions we can use to manage the pushTopics, these are \n",
    "\n",
    "1. Name of topics in the pushTopic base - name_of_topics(sf)\n",
    "2. Create topic in the pushTopic base - create_topic(sf,'name')\n",
    "3. delete topic in the pushTopic base - delete_topic(sf,'name')\n",
    "4. See limitations, how much of the call maximums we hav used - limits(sf)\n",
    "\n"
   ]
  },
  {
   "cell_type": "markdown",
   "metadata": {},
   "source": [
    "# Examples"
   ]
  },
  {
   "cell_type": "code",
   "execution_count": 6,
   "metadata": {},
   "outputs": [
    {
     "data": {
      "text/plain": [
       "['Account', 'Contact']"
      ]
     },
     "execution_count": 6,
     "metadata": {},
     "output_type": "execute_result"
    }
   ],
   "source": [
    "name_of_topics(sf)"
   ]
  },
  {
   "cell_type": "code",
   "execution_count": 7,
   "metadata": {},
   "outputs": [
    {
     "data": {
      "text/plain": [
       "OrderedDict([('id', '0IF7E0000004LKCWA2'), ('success', True), ('errors', [])])"
      ]
     },
     "execution_count": 7,
     "metadata": {},
     "output_type": "execute_result"
    }
   ],
   "source": [
    "create_topic(sf,'Case')"
   ]
  },
  {
   "cell_type": "code",
   "execution_count": 8,
   "metadata": {},
   "outputs": [
    {
     "data": {
      "text/plain": [
       "['Account', 'Case', 'Contact']"
      ]
     },
     "execution_count": 8,
     "metadata": {},
     "output_type": "execute_result"
    }
   ],
   "source": [
    "name_of_topics(sf)"
   ]
  },
  {
   "cell_type": "code",
   "execution_count": 9,
   "metadata": {},
   "outputs": [
    {
     "data": {
      "text/plain": [
       "204"
      ]
     },
     "execution_count": 9,
     "metadata": {},
     "output_type": "execute_result"
    }
   ],
   "source": [
    "delete_topic(sf,'Case')"
   ]
  },
  {
   "cell_type": "code",
   "execution_count": 10,
   "metadata": {},
   "outputs": [
    {
     "data": {
      "text/plain": [
       "['Account', 'Contact']"
      ]
     },
     "execution_count": 10,
     "metadata": {},
     "output_type": "execute_result"
    }
   ],
   "source": [
    "name_of_topics(sf)"
   ]
  }
 ],
 "metadata": {
  "kernelspec": {
   "display_name": "Python 3",
   "language": "python",
   "name": "python3"
  },
  "language_info": {
   "codemirror_mode": {
    "name": "ipython",
    "version": 3
   },
   "file_extension": ".py",
   "mimetype": "text/x-python",
   "name": "python",
   "nbconvert_exporter": "python",
   "pygments_lexer": "ipython3",
   "version": "3.8.1"
  }
 },
 "nbformat": 4,
 "nbformat_minor": 4
}
